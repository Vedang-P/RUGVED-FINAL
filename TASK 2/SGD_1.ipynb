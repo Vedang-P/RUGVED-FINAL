{
 "cells": [
  {
   "cell_type": "code",
   "execution_count": 1,
   "metadata": {},
   "outputs": [],
   "source": [
    "import numpy as np \n",
    "import pandas as pd\n",
    "from matplotlib import pyplot as plt\n",
    "import seaborn as sns\n",
    "sns.set(style='darkgrid')"
   ]
  },
  {
   "cell_type": "code",
   "execution_count": 2,
   "metadata": {},
   "outputs": [],
   "source": [
    "df=pd.read_csv('/Users/vedang/Downloads/train 2.csv')"
   ]
  },
  {
   "cell_type": "markdown",
   "metadata": {},
   "source": [
    "preprocessing the data"
   ]
  },
  {
   "cell_type": "code",
   "execution_count": 3,
   "metadata": {},
   "outputs": [],
   "source": [
    "df=np.array(df)"
   ]
  },
  {
   "cell_type": "markdown",
   "metadata": {},
   "source": [
    "Shuffling introduces randomness that prevents biased learning, basically prevents overfitting,if you train in batches,it can get biased to each class"
   ]
  },
  {
   "cell_type": "code",
   "execution_count": 4,
   "metadata": {},
   "outputs": [
    {
     "name": "stdout",
     "output_type": "stream",
     "text": [
      "42000 785\n"
     ]
    }
   ],
   "source": [
    "m,n=df.shape\n",
    "np.random.shuffle(df)\n",
    "print(m,n)"
   ]
  },
  {
   "cell_type": "markdown",
   "metadata": {},
   "source": [
    "m= no of total images \\n\n",
    "n = no of features (all individual pixel data) + 1 (label)"
   ]
  },
  {
   "cell_type": "markdown",
   "metadata": {},
   "source": [
    "now we will train on the remaining data"
   ]
  },
  {
   "cell_type": "code",
   "execution_count": 5,
   "metadata": {},
   "outputs": [
    {
     "data": {
      "text/plain": [
       "(785, 42000)"
      ]
     },
     "execution_count": 5,
     "metadata": {},
     "output_type": "execute_result"
    }
   ],
   "source": [
    "df_train = df.T\n",
    "df_train.shape"
   ]
  },
  {
   "cell_type": "code",
   "execution_count": 6,
   "metadata": {},
   "outputs": [],
   "source": [
    "Y_train=df_train[0]\n",
    "X_train=df_train[1:]\n",
    "X_train=X_train/255."
   ]
  },
  {
   "cell_type": "code",
   "execution_count": 7,
   "metadata": {},
   "outputs": [
    {
     "data": {
      "text/plain": [
       "(784, 42000)"
      ]
     },
     "execution_count": 7,
     "metadata": {},
     "output_type": "execute_result"
    }
   ],
   "source": [
    "X_train.shape"
   ]
  },
  {
   "cell_type": "markdown",
   "metadata": {},
   "source": [
    "Y_val/Y_train containss all the label info\n",
    "X_val/X_train contains all the pixel data"
   ]
  },
  {
   "cell_type": "markdown",
   "metadata": {},
   "source": [
    "the data is now loaded,now we define the initilizing parameters"
   ]
  },
  {
   "cell_type": "code",
   "execution_count": 8,
   "metadata": {},
   "outputs": [],
   "source": [
    "def initialize_parameters():\n",
    "     W1=np.random.rand(10,784) - 0.5\n",
    "     b1=np.random.rand(10,1) - 0.5\n",
    "     W2=np.random.rand(10,10) - 0.5\n",
    "     b2=np.random.rand(10,1) - 0.5\n",
    "     return W1,b1,W2,b2"
   ]
  },
  {
   "cell_type": "code",
   "execution_count": 9,
   "metadata": {},
   "outputs": [],
   "source": [
    "# W1=np.random.rand(10,784) - 0.5\n",
    "# W1.shape"
   ]
  },
  {
   "cell_type": "markdown",
   "metadata": {},
   "source": [
    "w1=weight for first hidden layer,10 neurons,subtracting 0.5 so that the data is now centered at origin,this helps in avoiding a scenario when everything is 0(both w and b = 0),and all the neurons basically start learning the exact same things by picking up the exact same changes"
   ]
  },
  {
   "cell_type": "markdown",
   "metadata": {},
   "source": [
    "w2=weight for the output layer connected to previous layer,the size is (current no of neurons,previous layer no of neurons)"
   ]
  },
  {
   "cell_type": "code",
   "execution_count": 10,
   "metadata": {},
   "outputs": [],
   "source": [
    "def ReLu(Z):\n",
    "    return np.maximum(0,Z)"
   ]
  },
  {
   "cell_type": "code",
   "execution_count": 11,
   "metadata": {},
   "outputs": [],
   "source": [
    "def softmax(Z):\n",
    "    exp = np.exp(Z - np.max(Z))\n",
    "    return exp / exp.sum(axis=0)\n"
   ]
  },
  {
   "cell_type": "markdown",
   "metadata": {},
   "source": [
    "now defining forward propagation algo"
   ]
  },
  {
   "cell_type": "code",
   "execution_count": 12,
   "metadata": {},
   "outputs": [],
   "source": [
    "def forward_prop(W1,b1,W2,b2,X):\n",
    "    Z1=W1.dot(X) + b1\n",
    "    A1=ReLu(Z1)\n",
    "    Z2=W2.dot(A1) + b2\n",
    "    A2=softmax(Z2)\n",
    "    return Z1,A1,Z2,A2\n"
   ]
  },
  {
   "cell_type": "code",
   "execution_count": 13,
   "metadata": {},
   "outputs": [],
   "source": [
    "def derivative_ReLu(Z):\n",
    "    return Z > 0"
   ]
  },
  {
   "cell_type": "markdown",
   "metadata": {},
   "source": [
    "we need to one hot encode our labels,we do this because it can create an error while computing the loss fucntion,we do this by basically making the correct label value as 1 and remaining else as 0,then we make a matrix of this,eg for label 2 , we make [0,0,1,0,0....,]  "
   ]
  },
  {
   "cell_type": "code",
   "execution_count": 14,
   "metadata": {},
   "outputs": [],
   "source": [
    "def one_hot_encode(Y):\n",
    "    arr=np.zeros((Y.size,Y.max()+1))\n",
    "    arr[np.arange(Y.size),Y]=1\n",
    "    arr=arr.T\n",
    "    return arr\n",
    "\n"
   ]
  },
  {
   "cell_type": "code",
   "execution_count": 15,
   "metadata": {},
   "outputs": [],
   "source": [
    "def back_propagation(Z1, A1, Z2, A2, W1, W2, X, Y):\n",
    "    m = Y.size\n",
    "    one_hot_Y = one_hot_encode(Y)\n",
    "    \n",
    "    dZ2 = A2 - one_hot_Y\n",
    "    dW2 = 1/m * dZ2.dot(A1.T)\n",
    "    db2 = 1/m * np.sum(dZ2)\n",
    "    dZ1 = W2.T.dot(dZ2) * derivative_ReLu(Z1)  \n",
    "    dW1 = 1/m * dZ1.dot(X.T)\n",
    "    db1 = 1/m * np.sum(dZ1)\n",
    "    \n",
    "    log_probs = np.log(A2 + 1e-9)  \n",
    "    loss = -np.sum(one_hot_Y * log_probs) / m\n",
    "    \n",
    "    return dW1, db1, dW2, db2 , loss\n"
   ]
  },
  {
   "cell_type": "code",
   "execution_count": 16,
   "metadata": {},
   "outputs": [],
   "source": [
    "def update_para(W1,b1,W2,b2,dW1,db1,dW2,db2,alpha):\n",
    "    W1=W1-alpha*dW1\n",
    "    b1=b1-alpha*db1\n",
    "    W2=W2-alpha*dW2\n",
    "    b2=b2-alpha*db2\n",
    "    return W1,b1,W2,b2\n",
    "\n",
    "    "
   ]
  },
  {
   "cell_type": "code",
   "execution_count": 17,
   "metadata": {},
   "outputs": [],
   "source": [
    "def get_predictions(A2):\n",
    "    return np.argmax(A2, axis=0)\n",
    "\n",
    "\n",
    "def get_accuracy(predictions, Y):\n",
    "    print(predictions, Y)\n",
    "    accuracy=np.sum(predictions == Y) / Y.size\n",
    "    return accuracy\n",
    "\n"
   ]
  },
  {
   "cell_type": "markdown",
   "metadata": {},
   "source": [
    "# Batch gradient descent"
   ]
  },
  {
   "cell_type": "code",
   "execution_count": 18,
   "metadata": {},
   "outputs": [],
   "source": [
    "\n",
    "\n",
    "def gradient_descent(X, Y, alpha, iterations):\n",
    "    W1, b1, W2, b2 = initialize_parameters()\n",
    "    accuracy_list = []  \n",
    "    iteration_list = []\n",
    "    loss_list = []\n",
    "    \n",
    "    for i in range(iterations):\n",
    "        Z1, A1, Z2, A2 = forward_prop(W1, b1, W2, b2, X)\n",
    "        dW1, db1, dW2, db2 ,l= back_propagation(Z1, A1, Z2, A2, W1, W2, X, Y)\n",
    "        W1, b1, W2, b2 = update_para(W1, b1, W2, b2, dW1, db1, dW2, db2, alpha)\n",
    "        if i % 50 == 0:\n",
    "            print(\"Iteration: \", i)\n",
    "            predictions = get_predictions(A2)\n",
    "            print(get_accuracy(predictions, Y))\n",
    "            accuracy_list.append(get_accuracy(predictions, Y))\n",
    "            iteration_list.append(i)\n",
    "            loss_list.append(l)\n",
    "    # used gpt for graphs       \n",
    "    plt.figure(figsize=(10, 6))\n",
    "    plt.plot(iteration_list, accuracy_list, label='Accuracy', color='royalblue', marker='o', linestyle='-')\n",
    "    plt.plot(iteration_list, loss_list, label='Loss', color='crimson', marker='x', linestyle='--')\n",
    "    plt.xlabel('Iteration', fontsize=12)\n",
    "    plt.ylabel('Value', fontsize=12)\n",
    "    plt.title('Training Accuracy & Loss Over Time', fontsize=14, fontweight='bold')\n",
    "    plt.legend()\n",
    "    plt.grid(True, linestyle='--', alpha=0.6)\n",
    "    plt.tight_layout()\n",
    "    plt.show()\n",
    "    return W1, b1, W2, b2\n"
   ]
  },
  {
   "cell_type": "code",
   "execution_count": 20,
   "metadata": {
    "scrolled": true
   },
   "outputs": [
    {
     "name": "stdout",
     "output_type": "stream",
     "text": [
      "Iteration:  0\n",
      "[6 0 2 ... 6 6 8] [4 7 5 ... 8 9 6]\n",
      "0.10633333333333334\n",
      "[6 0 2 ... 6 6 8] [4 7 5 ... 8 9 6]\n"
     ]
    },
    {
     "ename": "KeyboardInterrupt",
     "evalue": "",
     "output_type": "error",
     "traceback": [
      "\u001b[31m---------------------------------------------------------------------------\u001b[39m",
      "\u001b[31mKeyboardInterrupt\u001b[39m                         Traceback (most recent call last)",
      "\u001b[36mCell\u001b[39m\u001b[36m \u001b[39m\u001b[32mIn[20]\u001b[39m\u001b[32m, line 1\u001b[39m\n\u001b[32m----> \u001b[39m\u001b[32m1\u001b[39m W1, b1, W2, b2 = \u001b[43mgradient_descent\u001b[49m\u001b[43m(\u001b[49m\u001b[43mX_train\u001b[49m\u001b[43m,\u001b[49m\u001b[43m \u001b[49m\u001b[43mY_train\u001b[49m\u001b[43m,\u001b[49m\u001b[43m \u001b[49m\u001b[32;43m0.10\u001b[39;49m\u001b[43m,\u001b[49m\u001b[43m \u001b[49m\u001b[32;43m500\u001b[39;49m\u001b[43m)\u001b[49m\n",
      "\u001b[36mCell\u001b[39m\u001b[36m \u001b[39m\u001b[32mIn[18]\u001b[39m\u001b[32m, line 9\u001b[39m, in \u001b[36mgradient_descent\u001b[39m\u001b[34m(X, Y, alpha, iterations)\u001b[39m\n\u001b[32m      7\u001b[39m \u001b[38;5;28;01mfor\u001b[39;00m i \u001b[38;5;129;01min\u001b[39;00m \u001b[38;5;28mrange\u001b[39m(iterations):\n\u001b[32m      8\u001b[39m     Z1, A1, Z2, A2 = forward_prop(W1, b1, W2, b2, X)\n\u001b[32m----> \u001b[39m\u001b[32m9\u001b[39m     dW1, db1, dW2, db2 ,l= \u001b[43mback_propagation\u001b[49m\u001b[43m(\u001b[49m\u001b[43mZ1\u001b[49m\u001b[43m,\u001b[49m\u001b[43m \u001b[49m\u001b[43mA1\u001b[49m\u001b[43m,\u001b[49m\u001b[43m \u001b[49m\u001b[43mZ2\u001b[49m\u001b[43m,\u001b[49m\u001b[43m \u001b[49m\u001b[43mA2\u001b[49m\u001b[43m,\u001b[49m\u001b[43m \u001b[49m\u001b[43mW1\u001b[49m\u001b[43m,\u001b[49m\u001b[43m \u001b[49m\u001b[43mW2\u001b[49m\u001b[43m,\u001b[49m\u001b[43m \u001b[49m\u001b[43mX\u001b[49m\u001b[43m,\u001b[49m\u001b[43m \u001b[49m\u001b[43mY\u001b[49m\u001b[43m)\u001b[49m\n\u001b[32m     10\u001b[39m     W1, b1, W2, b2 = update_para(W1, b1, W2, b2, dW1, db1, dW2, db2, alpha)\n\u001b[32m     11\u001b[39m     \u001b[38;5;28;01mif\u001b[39;00m i % \u001b[32m50\u001b[39m == \u001b[32m0\u001b[39m:\n",
      "\u001b[36mCell\u001b[39m\u001b[36m \u001b[39m\u001b[32mIn[15]\u001b[39m\u001b[32m, line 9\u001b[39m, in \u001b[36mback_propagation\u001b[39m\u001b[34m(Z1, A1, Z2, A2, W1, W2, X, Y)\u001b[39m\n\u001b[32m      7\u001b[39m db2 = \u001b[32m1\u001b[39m/m * np.sum(dZ2)\n\u001b[32m      8\u001b[39m dZ1 = W2.T.dot(dZ2) * derivative_ReLu(Z1)  \n\u001b[32m----> \u001b[39m\u001b[32m9\u001b[39m dW1 = \u001b[32m1\u001b[39m/m * dZ1.dot(X.T)\n\u001b[32m     10\u001b[39m db1 = \u001b[32m1\u001b[39m/m * np.sum(dZ1)\n\u001b[32m     12\u001b[39m log_probs = np.log(A2 + \u001b[32m1e-9\u001b[39m)  \n",
      "\u001b[31mKeyboardInterrupt\u001b[39m: "
     ]
    }
   ],
   "source": [
    "W1, b1, W2, b2 = gradient_descent(X_train, Y_train, 0.10, 500)"
   ]
  },
  {
   "cell_type": "code",
   "execution_count": 21,
   "metadata": {},
   "outputs": [
    {
     "data": {
      "text/plain": [
       "328.125"
      ]
     },
     "execution_count": 21,
     "metadata": {},
     "output_type": "execute_result"
    }
   ],
   "source": [
    "42000/128"
   ]
  },
  {
   "cell_type": "markdown",
   "metadata": {},
   "source": [
    "# SGD\n",
    "## we take every example individually here"
   ]
  },
  {
   "cell_type": "code",
   "execution_count": null,
   "metadata": {},
   "outputs": [],
   "source": [
    "def one_hot_encode(Y, num_classes=10):\n",
    "\n",
    "    y_size = Y.size\n",
    "    y_values = Y \n",
    "\n",
    "    arr = np.zeros((y_size, num_classes))\n",
    "    arr[np.arange(y_size), y_values] = 1\n",
    "    arr = arr.T # Transpose to make it (num_classes, y_size)\n",
    "    return arr"
   ]
  },
  {
   "cell_type": "code",
   "execution_count": null,
   "metadata": {},
   "outputs": [],
   "source": [
    "def get_accuracy(predictions, Y):\n",
    "    accuracy = np.sum(predictions == Y) / Y.size\n",
    "    return accuracy"
   ]
  },
  {
   "cell_type": "code",
   "execution_count": null,
   "metadata": {},
   "outputs": [],
   "source": [
    "def back_propagation(Z1, A1, Z2, A2, W1, W2, X, Y):\n",
    "    num_classes = 10 \n",
    "    m = Y.size\n",
    "    \n",
    "    one_hot_Y = one_hot_encode(Y, num_classes) \n",
    "    \n",
    "    dZ2 = A2 - one_hot_Y\n",
    "    \n",
    "    dW2 = (1/m) * dZ2.dot(A1.T) \n",
    "    db2 = (1/m) * np.sum(dZ2)\n",
    "    \n",
    "    dZ1 = W2.T.dot(dZ2) * derivative_ReLu(Z1)\n",
    "    dW1 = (1/m) * dZ1.dot(X.T)\n",
    "    db1 = (1/m) * np.sum(dZ1) \n",
    "    \n",
    "    log_probs = np.log(A2 + 1e-9)\n",
    "    loss = -np.sum(one_hot_Y * log_probs) / m # Cross-entropy loss\n",
    "    \n",
    "    return dW1, db1, dW2, db2, loss"
   ]
  },
  {
   "cell_type": "code",
   "execution_count": null,
   "metadata": {},
   "outputs": [],
   "source": [
    "def gradient_descent(X, Y, alpha, iterations):\n",
    "    W1, b1, W2, b2 = initialize_parameters()\n",
    "    accuracy_list = []  \n",
    "    iteration_list = []\n",
    "    loss_list = []\n",
    "    \n",
    "    for i in range(iterations):\n",
    "        Z1, A1, Z2, A2 = forward_prop(W1, b1, W2, b2, X)\n",
    "        dW1, db1, dW2, db2, l = back_propagation(Z1, A1, Z2, A2, W1, W2, X, Y) \n",
    "        W1, b1, W2, b2 = update_para(W1, b1, W2, b2, dW1, db1, dW2, db2, alpha)\n",
    "        \n",
    "        if i % 50 == 0:\n",
    "            print(\"Iteration: \", i)\n",
    "            predictions = get_predictions(A2)\n",
    "            print(predictions, Y) \n",
    "            acc = get_accuracy(predictions, Y) \n",
    "            print(acc) \n",
    "            \n",
    "            accuracy_list.append(acc)\n",
    "            iteration_list.append(i)\n",
    "            loss_list.append(l)\n",
    "            \n",
    "    \n",
    "    plt.figure(figsize=(10, 6))\n",
    "    plt.plot(iteration_list, accuracy_list, label='Accuracy', color='royalblue', marker='o', linestyle='-')\n",
    "    plt.plot(iteration_list, loss_list, label='Loss', color='crimson', marker='x', linestyle='--')\n",
    "    plt.xlabel('Iteration', fontsize=12)\n",
    "    plt.ylabel('Value', fontsize=12)\n",
    "    plt.title('Batch Gradient Descent: Training Accuracy & Loss Over Time', fontsize=14, fontweight='bold')\n",
    "    plt.legend()\n",
    "    plt.grid(True, linestyle='--', alpha=0.6)\n",
    "    plt.tight_layout()\n",
    "    plt.show()\n",
    "    return W1, b1, W2, b2"
   ]
  },
  {
   "cell_type": "code",
   "execution_count": null,
   "metadata": {},
   "outputs": [],
   "source": [
    "def sgd(X, Y, alpha, iterations):\n",
    "    W1, b1, W2, b2 = initialize_parameters()\n",
    "    \n",
    "   \n",
    "    accuracy_plot_list, iteration_plot_list, loss_plot_list = [], [], []\n",
    "    \n",
    "    # For storing values over a window (say,500 iterations)\n",
    "    temp_accuracy_list = []\n",
    "    temp_loss_list = []\n",
    "    \n",
    "    m_total = X.shape[1]  # Total no. of training examples\n",
    "\n",
    "    for i in range(iterations):\n",
    "        # Pick a random example\n",
    "        idx = np.random.randint(0, m_total)\n",
    "        x_sample = X[:, idx:idx+1]       # Shape: (num_features, 1), e.g., (784, 1)\n",
    "        y_sample = np.array([Y[idx]])    # Shape: (1,), e.g., np.array([5])\n",
    "\n",
    "        \n",
    "        Z1, A1, Z2, A2 = forward_prop(W1, b1, W2, b2, x_sample)\n",
    "        dW1, db1, dW2, db2, current_loss = back_propagation(Z1, A1, Z2, A2, W1, W2, x_sample, y_sample)\n",
    "        W1, b1, W2, b2 = update_para(W1, b1, W2, b2, dW1, db1, dW2, db2, alpha)\n",
    "        predictions = get_predictions(A2) \n",
    "        current_acc = get_accuracy(predictions, y_sample)\n",
    "        \n",
    "        temp_accuracy_list.append(current_acc) # Store 0 or 1\n",
    "        temp_loss_list.append(current_loss)    # Store loss for this sample\n",
    "\n",
    "        # store for plotting every 500 iterations\n",
    "        if (i + 1) % 500 == 0:\n",
    "            if temp_accuracy_list: \n",
    "                avg_acc = np.mean(temp_accuracy_list)\n",
    "                avg_loss = np.mean(temp_loss_list)\n",
    "           \n",
    "            print(f\"Iteration: {i+1}\")\n",
    "            print(f\"  Avg Accuracy (last 500): {avg_acc:}\")\n",
    "            print(f\"  Avg Loss (last 500): {avg_loss:}\")\n",
    "            \n",
    "            accuracy_plot_list.append(avg_acc)\n",
    "            iteration_plot_list.append(i + 1)\n",
    "            loss_plot_list.append(avg_loss)\n",
    "            #REset the lists for the next set\n",
    "            temp_accuracy_list = []\n",
    "            temp_loss_list = []\n",
    "            \n",
    "    # Plotting\n",
    "        plt.figure(figsize=(10, 6))\n",
    "        plt.plot(iteration_plot_list, accuracy_plot_list, label='Avg Accuracy', color='royalblue', marker='o', linestyle='-')\n",
    "        plt.plot(iteration_plot_list, loss_plot_list, label='Avg Loss', color='crimson', marker='x', linestyle='--')\n",
    "        plt.xlabel('Iteration', fontsize=12)\n",
    "        plt.ylabel('Value', fontsize=12)\n",
    "        plt.title('SGD: Training Avg Accuracy & Avg Loss (averaged over 500 iterations)', fontsize=14, fontweight='bold')\n",
    "        plt.legend()\n",
    "        plt.grid(True, linestyle='--', alpha=0.6)\n",
    "        plt.tight_layout()\n",
    "        plt.show()\n",
    "    return W1, b1, W2, b2"
   ]
  },
  {
   "cell_type": "code",
   "execution_count": 27,
   "metadata": {},
   "outputs": [
    {
     "name": "stdout",
     "output_type": "stream",
     "text": [
      "Iteration: 500\n",
      "  Avg Accuracy (last 500): 0.2840\n",
      "  Avg Loss (last 500): 2.0709\n",
      "Iteration: 1000\n",
      "  Avg Accuracy (last 500): 0.4880\n",
      "  Avg Loss (last 500): 1.3939\n",
      "Iteration: 1500\n",
      "  Avg Accuracy (last 500): 0.6240\n",
      "  Avg Loss (last 500): 1.0602\n",
      "Iteration: 2000\n",
      "  Avg Accuracy (last 500): 0.6940\n",
      "  Avg Loss (last 500): 0.8914\n",
      "Iteration: 2500\n",
      "  Avg Accuracy (last 500): 0.7320\n",
      "  Avg Loss (last 500): 0.8162\n",
      "Iteration: 3000\n",
      "  Avg Accuracy (last 500): 0.7320\n",
      "  Avg Loss (last 500): 0.7811\n",
      "Iteration: 3500\n",
      "  Avg Accuracy (last 500): 0.7440\n",
      "  Avg Loss (last 500): 0.7236\n",
      "Iteration: 4000\n",
      "  Avg Accuracy (last 500): 0.8120\n",
      "  Avg Loss (last 500): 0.5916\n",
      "Iteration: 4500\n",
      "  Avg Accuracy (last 500): 0.8160\n",
      "  Avg Loss (last 500): 0.6134\n",
      "Iteration: 5000\n",
      "  Avg Accuracy (last 500): 0.7720\n",
      "  Avg Loss (last 500): 0.6869\n",
      "Iteration: 5500\n",
      "  Avg Accuracy (last 500): 0.7820\n",
      "  Avg Loss (last 500): 0.6954\n",
      "Iteration: 6000\n",
      "  Avg Accuracy (last 500): 0.8200\n",
      "  Avg Loss (last 500): 0.5606\n",
      "Iteration: 6500\n",
      "  Avg Accuracy (last 500): 0.8220\n",
      "  Avg Loss (last 500): 0.6031\n",
      "Iteration: 7000\n",
      "  Avg Accuracy (last 500): 0.8220\n",
      "  Avg Loss (last 500): 0.6043\n",
      "Iteration: 7500\n",
      "  Avg Accuracy (last 500): 0.7900\n",
      "  Avg Loss (last 500): 0.7313\n",
      "Iteration: 8000\n",
      "  Avg Accuracy (last 500): 0.8080\n",
      "  Avg Loss (last 500): 0.6491\n",
      "Iteration: 8500\n",
      "  Avg Accuracy (last 500): 0.8340\n",
      "  Avg Loss (last 500): 0.5451\n",
      "Iteration: 9000\n",
      "  Avg Accuracy (last 500): 0.8720\n",
      "  Avg Loss (last 500): 0.4010\n",
      "Iteration: 9500\n",
      "  Avg Accuracy (last 500): 0.8640\n",
      "  Avg Loss (last 500): 0.4687\n",
      "Iteration: 10000\n",
      "  Avg Accuracy (last 500): 0.8280\n",
      "  Avg Loss (last 500): 0.5385\n"
     ]
    },
    {
     "data": {
      "image/png": "[encoded data removed]",
      "text/plain": [
       "<Figure size 1000x600 with 1 Axes>"
      ]
     },
     "metadata": {},
     "output_type": "display_data"
    }
   ],
   "source": [
    "W1_sgd, b1_sgd, W2_sgd, b2_sgd = sgd(X_train, Y_train, alpha=0.01, iterations=10000) "
   ]
  },
  {
   "cell_type": "markdown",
   "metadata": {},
   "source": [
    "# Mini batch"
   ]
  },
  {
   "cell_type": "code",
   "execution_count": null,
   "metadata": {},
   "outputs": [],
   "source": [
    "def one_hot_encode(Y, num_classes=10): #Same as sgd\n",
    "    y_size = Y.size\n",
    "    y_values = Y\n",
    "\n",
    "    arr = np.zeros((y_size, num_classes))\n",
    "    arr[np.arange(y_size), y_values] = 1\n",
    "    arr = arr.T \n",
    "    return arr"
   ]
  },
  {
   "cell_type": "code",
   "execution_count": null,
   "metadata": {},
   "outputs": [],
   "source": [
    "def get_accuracy(predictions, Y): #same\n",
    "    accuracy = np.sum(predictions == Y) / Y.size\n",
    "    return accuracy"
   ]
  },
  {
   "cell_type": "code",
   "execution_count": null,
   "metadata": {},
   "outputs": [],
   "source": [
    "def back_propagation(Z1, A1, Z2, A2, W1, W2, X, Y):\n",
    "    num_classes = 10 \n",
    "    m = Y.size # BATCH SIZE\n",
    "    \n",
    "    one_hot_Y = one_hot_encode(Y, num_classes)\n",
    "    dZ2 = A2 - one_hot_Y \n",
    "    \n",
    "    dW2 = (1/m) * dZ2.dot(A1.T) \n",
    "    db2 = (1/m) * np.sum(dZ2, axis=1, keepdims=True) \n",
    "    \n",
    "    dZ1 = W2.T.dot(dZ2) * derivative_ReLu(Z1) \n",
    "    dW1 = (1/m) * dZ1.dot(X.T) \n",
    "    db1 = (1/m) * np.sum(dZ1, axis=1, keepdims=True) \n",
    "    log_probs = np.log(A2 + 1e-9) \n",
    "    loss = -np.sum(one_hot_Y * log_probs) / m \n",
    "    \n",
    "    return dW1, db1, dW2, db2, loss"
   ]
  },
  {
   "cell_type": "code",
   "execution_count": null,
   "metadata": {},
   "outputs": [],
   "source": [
    "def mini_batch_gradient_descent(X, Y, alpha, epochs, batch_size):\n",
    "    W1, b1, W2, b2 = initialize_parameters()\n",
    "    \n",
    "    epoch_accuracy_list = []\n",
    "    epoch_loss_list = []\n",
    "    epoch_num_list = [] # Stores epoch numbers for plotting\n",
    "\n",
    "    num_samples = X.shape[1]\n",
    "\n",
    "    for epoch in range(epochs):\n",
    "        # Shuffle training data at the beginning of each epoch\n",
    "        permutation = np.random.permutation(num_samples)\n",
    "        X_shuffled = X[:, permutation]\n",
    "        Y_shuffled = Y[permutation]\n",
    "\n",
    "        current_epoch_batch_losses = [] \n",
    "\n",
    "        for i in range(0, num_samples, batch_size):\n",
    "\n",
    "            X_batch = X_shuffled[:, i:i + batch_size]\n",
    "            Y_batch = Y_shuffled[i:i + batch_size] \n",
    "\n",
    "            Z1_batch, A1_batch, Z2_batch, A2_batch = forward_prop(W1, b1, W2, b2, X_batch)\n",
    "                        \n",
    "            dW1, db1, dW2, db2, batch_loss = back_propagation(Z1_batch, A1_batch, Z2_batch, A2_batch, W1, W2, X_batch, Y_batch)\n",
    "            current_epoch_batch_losses.append(batch_loss)\n",
    "            \n",
    "            \n",
    "            W1, b1, W2, b2 = update_para(W1, b1, W2, b2, dW1, db1, dW2, db2, alpha)\n",
    "\n",
    "       \n",
    "        avg_epoch_loss = np.mean(current_epoch_batch_losses)\n",
    "        \n",
    "        \n",
    "        _, _, _, A2_full_train = forward_prop(W1, b1, W2, b2, X) \n",
    "        predictions_full_train = get_predictions(A2_full_train)\n",
    "        epoch_train_accuracy = get_accuracy(predictions_full_train, Y) \n",
    "\n",
    "        # Log progress (e.g., every 10 epochs or the last epoch)\n",
    "        log_interval = 10\n",
    "        if epoch % log_interval == 0 or epoch == epochs - 1:\n",
    "            print(f\"Epoch: {epoch}\")\n",
    "            print(f\"  Training Accuracy: {epoch_train_accuracy:}\")\n",
    "            print(f\"  Average Training Loss for Epoch: {avg_epoch_loss:}\")\n",
    "\n",
    "        epoch_accuracy_list.append(epoch_train_accuracy)\n",
    "        epoch_loss_list.append(avg_epoch_loss)\n",
    "        epoch_num_list.append(epoch)\n",
    "            \n",
    "    # Plotting\n",
    "    plt.figure(figsize=(10, 6))\n",
    "    plt.plot(epoch_num_list, epoch_accuracy_list, label='Training Accuracy per Epoch', color='royalblue', marker='o', linestyle='-')\n",
    "    plt.plot(epoch_num_list, epoch_loss_list, label='Avg Training Loss per Epoch', color='crimson', marker='x', linestyle='--')\n",
    "    plt.xlabel('Epoch', fontsize=12)\n",
    "    plt.ylabel('Value', fontsize=12)\n",
    "    plt.title('Mini-Batch GD: Training Accuracy & Loss Over Epochs', fontsize=14, fontweight='bold')\n",
    "    plt.legend()\n",
    "    plt.grid(True, linestyle='--', alpha=0.6)\n",
    "    plt.tight_layout()\n",
    "    plt.show()\n",
    "\n",
    "    return W1, b1, W2, b2"
   ]
  },
  {
   "cell_type": "code",
   "execution_count": null,
   "metadata": {},
   "outputs": [
    {
     "name": "stdout",
     "output_type": "stream",
     "text": [
      "Epoch: 0\n",
      "  Training Accuracy: 0.8567\n",
      "  Average Training Loss for Epoch: 0.8128\n",
      "Epoch: 10\n",
      "  Training Accuracy: 0.9256\n",
      "  Average Training Loss for Epoch: 0.2473\n"
     ]
    }
   ],
   "source": [
    "\n",
    "df = pd.read_csv('/Users/vedang/Downloads/train 2.csv')\n",
    "df_array = np.array(df)\n",
    "m_total_samples, n_features_plus_label = df_array.shape\n",
    "np.random.shuffle(df_array)\n",
    "df_train_transposed = df_array.T\n",
    "Y_train_full = df_train_transposed[0]\n",
    "X_train_full = df_train_transposed[1:]\n",
    "X_train_full = X_train_full / 255.\n",
    "\n",
    "\n",
    "batch_s = 64\n",
    "num_epochs = 5\n",
    "learning_r = 0.1 \n",
    "\n",
    "W1_mb, b1_mb, W2_mb, b2_mb = mini_batch_gradient_descent(X_train_full, Y_train_full, alpha=learning_r, epochs=num_epochs, batch_size=batch_s)"
   ]
  },
  {
   "cell_type": "code",
   "execution_count": null,
   "metadata": {},
   "outputs": [],
   "source": []
  }
 ],
 "metadata": {
  "kaggle": {
   "accelerator": "none",
   "dataSources": [
    {
     "datasetId": 102285,
     "sourceId": 242592,
     "sourceType": "datasetVersion"
    },
    {
     "datasetId": 7531458,
     "sourceId": 11976128,
     "sourceType": "datasetVersion"
    }
   ],
   "dockerImageVersionId": 31040,
   "isGpuEnabled": false,
   "isInternetEnabled": false,
   "language": "python",
   "sourceType": "notebook"
  },
  "kernelspec": {
   "display_name": "tf-macos",
   "language": "python",
   "name": "python3"
  },
  "language_info": {
   "codemirror_mode": {
    "name": "ipython",
    "version": 3
   },
   "file_extension": ".py",
   "mimetype": "text/x-python",
   "name": "python",
   "nbconvert_exporter": "python",
   "pygments_lexer": "ipython3",
   "version": "3.11.11"
  }
 },
 "nbformat": 4,
 "nbformat_minor": 4
}
